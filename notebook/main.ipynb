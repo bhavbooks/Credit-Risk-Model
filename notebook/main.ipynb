{
 "cells": [
  {
   "cell_type": "markdown",
   "id": "87f299c0",
   "metadata": {},
   "source": [
    "# Preparing Data For the Modelling"
   ]
  },
  {
   "cell_type": "markdown",
   "id": "9e83c302",
   "metadata": {},
   "source": [
    "Importing libraries\n"
   ]
  },
  {
   "cell_type": "code",
   "execution_count": 2,
   "id": "31baa2e2",
   "metadata": {},
   "outputs": [],
   "source": [
    "import pandas as pd\n",
    "import numpy as np\n"
   ]
  },
  {
   "cell_type": "code",
   "execution_count": 3,
   "id": "e122e4ec",
   "metadata": {},
   "outputs": [
    {
     "data": {
      "text/html": [
       "<div>\n",
       "<style scoped>\n",
       "    .dataframe tbody tr th:only-of-type {\n",
       "        vertical-align: middle;\n",
       "    }\n",
       "\n",
       "    .dataframe tbody tr th {\n",
       "        vertical-align: top;\n",
       "    }\n",
       "\n",
       "    .dataframe thead th {\n",
       "        text-align: right;\n",
       "    }\n",
       "</style>\n",
       "<table border=\"1\" class=\"dataframe\">\n",
       "  <thead>\n",
       "    <tr style=\"text-align: right;\">\n",
       "      <th></th>\n",
       "      <th>id</th>\n",
       "      <th>member_id</th>\n",
       "      <th>loan_amnt</th>\n",
       "      <th>funded_amnt</th>\n",
       "      <th>funded_amnt_inv</th>\n",
       "      <th>term</th>\n",
       "      <th>int_rate</th>\n",
       "      <th>installment</th>\n",
       "      <th>grade</th>\n",
       "      <th>sub_grade</th>\n",
       "      <th>...</th>\n",
       "      <th>total_bal_il</th>\n",
       "      <th>il_util</th>\n",
       "      <th>open_rv_12m</th>\n",
       "      <th>open_rv_24m</th>\n",
       "      <th>max_bal_bc</th>\n",
       "      <th>all_util</th>\n",
       "      <th>total_rev_hi_lim</th>\n",
       "      <th>inq_fi</th>\n",
       "      <th>total_cu_tl</th>\n",
       "      <th>inq_last_12m</th>\n",
       "    </tr>\n",
       "  </thead>\n",
       "  <tbody>\n",
       "    <tr>\n",
       "      <th>0</th>\n",
       "      <td>1000000</td>\n",
       "      <td>7423388</td>\n",
       "      <td>5583</td>\n",
       "      <td>5583</td>\n",
       "      <td>5530</td>\n",
       "      <td>60 months</td>\n",
       "      <td>9.02</td>\n",
       "      <td>177.59</td>\n",
       "      <td>C</td>\n",
       "      <td>F5</td>\n",
       "      <td>...</td>\n",
       "      <td>73260</td>\n",
       "      <td>38.5</td>\n",
       "      <td>3</td>\n",
       "      <td>8</td>\n",
       "      <td>7195</td>\n",
       "      <td>8.6</td>\n",
       "      <td>75743</td>\n",
       "      <td>2</td>\n",
       "      <td>7</td>\n",
       "      <td>14</td>\n",
       "    </tr>\n",
       "    <tr>\n",
       "      <th>1</th>\n",
       "      <td>1000001</td>\n",
       "      <td>7550634</td>\n",
       "      <td>12889</td>\n",
       "      <td>12889</td>\n",
       "      <td>12818</td>\n",
       "      <td>60 months</td>\n",
       "      <td>21.10</td>\n",
       "      <td>486.26</td>\n",
       "      <td>E</td>\n",
       "      <td>F5</td>\n",
       "      <td>...</td>\n",
       "      <td>61649</td>\n",
       "      <td>89.6</td>\n",
       "      <td>2</td>\n",
       "      <td>16</td>\n",
       "      <td>15986</td>\n",
       "      <td>76.7</td>\n",
       "      <td>20687</td>\n",
       "      <td>3</td>\n",
       "      <td>12</td>\n",
       "      <td>11</td>\n",
       "    </tr>\n",
       "    <tr>\n",
       "      <th>2</th>\n",
       "      <td>1000002</td>\n",
       "      <td>5304572</td>\n",
       "      <td>28413</td>\n",
       "      <td>28413</td>\n",
       "      <td>28365</td>\n",
       "      <td>60 months</td>\n",
       "      <td>22.00</td>\n",
       "      <td>1085.11</td>\n",
       "      <td>F</td>\n",
       "      <td>G2</td>\n",
       "      <td>...</td>\n",
       "      <td>67743</td>\n",
       "      <td>14.2</td>\n",
       "      <td>0</td>\n",
       "      <td>2</td>\n",
       "      <td>17843</td>\n",
       "      <td>69.1</td>\n",
       "      <td>33780</td>\n",
       "      <td>4</td>\n",
       "      <td>9</td>\n",
       "      <td>6</td>\n",
       "    </tr>\n",
       "    <tr>\n",
       "      <th>3</th>\n",
       "      <td>1000003</td>\n",
       "      <td>3234489</td>\n",
       "      <td>13275</td>\n",
       "      <td>13275</td>\n",
       "      <td>13177</td>\n",
       "      <td>36 months</td>\n",
       "      <td>10.78</td>\n",
       "      <td>433.22</td>\n",
       "      <td>C</td>\n",
       "      <td>A1</td>\n",
       "      <td>...</td>\n",
       "      <td>13596</td>\n",
       "      <td>35.8</td>\n",
       "      <td>6</td>\n",
       "      <td>13</td>\n",
       "      <td>7374</td>\n",
       "      <td>73.3</td>\n",
       "      <td>51219</td>\n",
       "      <td>3</td>\n",
       "      <td>7</td>\n",
       "      <td>2</td>\n",
       "    </tr>\n",
       "    <tr>\n",
       "      <th>4</th>\n",
       "      <td>1000004</td>\n",
       "      <td>8204212</td>\n",
       "      <td>3461</td>\n",
       "      <td>3461</td>\n",
       "      <td>3451</td>\n",
       "      <td>36 months</td>\n",
       "      <td>24.05</td>\n",
       "      <td>135.88</td>\n",
       "      <td>C</td>\n",
       "      <td>C3</td>\n",
       "      <td>...</td>\n",
       "      <td>32746</td>\n",
       "      <td>69.8</td>\n",
       "      <td>0</td>\n",
       "      <td>2</td>\n",
       "      <td>17830</td>\n",
       "      <td>66.8</td>\n",
       "      <td>90069</td>\n",
       "      <td>8</td>\n",
       "      <td>9</td>\n",
       "      <td>6</td>\n",
       "    </tr>\n",
       "  </tbody>\n",
       "</table>\n",
       "<p>5 rows × 74 columns</p>\n",
       "</div>"
      ],
      "text/plain": [
       "        id  member_id  loan_amnt  funded_amnt  funded_amnt_inv        term  \\\n",
       "0  1000000    7423388       5583         5583             5530   60 months   \n",
       "1  1000001    7550634      12889        12889            12818   60 months   \n",
       "2  1000002    5304572      28413        28413            28365   60 months   \n",
       "3  1000003    3234489      13275        13275            13177   36 months   \n",
       "4  1000004    8204212       3461         3461             3451   36 months   \n",
       "\n",
       "   int_rate  installment grade sub_grade  ... total_bal_il il_util  \\\n",
       "0      9.02       177.59     C        F5  ...        73260    38.5   \n",
       "1     21.10       486.26     E        F5  ...        61649    89.6   \n",
       "2     22.00      1085.11     F        G2  ...        67743    14.2   \n",
       "3     10.78       433.22     C        A1  ...        13596    35.8   \n",
       "4     24.05       135.88     C        C3  ...        32746    69.8   \n",
       "\n",
       "  open_rv_12m  open_rv_24m max_bal_bc all_util total_rev_hi_lim inq_fi  \\\n",
       "0           3            8       7195      8.6            75743      2   \n",
       "1           2           16      15986     76.7            20687      3   \n",
       "2           0            2      17843     69.1            33780      4   \n",
       "3           6           13       7374     73.3            51219      3   \n",
       "4           0            2      17830     66.8            90069      8   \n",
       "\n",
       "  total_cu_tl inq_last_12m  \n",
       "0           7           14  \n",
       "1          12           11  \n",
       "2           9            6  \n",
       "3           7            2  \n",
       "4           9            6  \n",
       "\n",
       "[5 rows x 74 columns]"
      ]
     },
     "execution_count": 3,
     "metadata": {},
     "output_type": "execute_result"
    }
   ],
   "source": [
    "## Loading the dataset\n",
    "df = pd.read_csv(\"data/Loan_Data_New.csv\")\n",
    "df.head()"
   ]
  },
  {
   "cell_type": "code",
   "execution_count": 4,
   "id": "a3b98d00",
   "metadata": {},
   "outputs": [],
   "source": [
    "pd.set_option('display.max_columns', None)\n"
   ]
  },
  {
   "cell_type": "code",
   "execution_count": 5,
   "id": "380c239f",
   "metadata": {},
   "outputs": [
    {
     "name": "stdout",
     "output_type": "stream",
     "text": [
      "<class 'pandas.core.frame.DataFrame'>\n",
      "RangeIndex: 2000 entries, 0 to 1999\n",
      "Data columns (total 74 columns):\n",
      " #   Column                       Non-Null Count  Dtype  \n",
      "---  ------                       --------------  -----  \n",
      " 0   id                           2000 non-null   int64  \n",
      " 1   member_id                    2000 non-null   int64  \n",
      " 2   loan_amnt                    2000 non-null   int64  \n",
      " 3   funded_amnt                  2000 non-null   int64  \n",
      " 4   funded_amnt_inv              2000 non-null   int64  \n",
      " 5   term                         2000 non-null   object \n",
      " 6   int_rate                     2000 non-null   float64\n",
      " 7   installment                  2000 non-null   float64\n",
      " 8   grade                        2000 non-null   object \n",
      " 9   sub_grade                    2000 non-null   object \n",
      " 10  emp_title                    1800 non-null   object \n",
      " 11  emp_length                   2000 non-null   object \n",
      " 12  home_ownership               2000 non-null   object \n",
      " 13  annual_inc                   2000 non-null   int64  \n",
      " 14  verification_status          2000 non-null   object \n",
      " 15  issue_d                      2000 non-null   object \n",
      " 16  loan_status                  2000 non-null   object \n",
      " 17  pymnt_plan                   2000 non-null   object \n",
      " 18  url                          2000 non-null   object \n",
      " 19  desc                         2000 non-null   object \n",
      " 20  purpose                      2000 non-null   object \n",
      " 21  title                        2000 non-null   object \n",
      " 22  zip_code                     2000 non-null   object \n",
      " 23  addr_state                   2000 non-null   object \n",
      " 24  dti                          2000 non-null   float64\n",
      " 25  delinq_2yrs                  2000 non-null   int64  \n",
      " 26  earliest_cr_line             2000 non-null   object \n",
      " 27  inq_last_6mths               2000 non-null   int64  \n",
      " 28  mths_since_last_delinq       2000 non-null   int64  \n",
      " 29  mths_since_last_record       2000 non-null   int64  \n",
      " 30  open_acc                     2000 non-null   int64  \n",
      " 31  pub_rec                      2000 non-null   int64  \n",
      " 32  revol_bal                    2000 non-null   int64  \n",
      " 33  revol_util                   2000 non-null   float64\n",
      " 34  total_acc                    2000 non-null   int64  \n",
      " 35  initial_list_status          2000 non-null   object \n",
      " 36  out_prncp                    2000 non-null   float64\n",
      " 37  out_prncp_inv                2000 non-null   float64\n",
      " 38  total_pymnt                  2000 non-null   float64\n",
      " 39  total_pymnt_inv              2000 non-null   float64\n",
      " 40  total_rec_prncp              2000 non-null   float64\n",
      " 41  total_rec_int                2000 non-null   float64\n",
      " 42  total_rec_late_fee           2000 non-null   int64  \n",
      " 43  recoveries                   2000 non-null   float64\n",
      " 44  collection_recovery_fee      2000 non-null   int64  \n",
      " 45  last_pymnt_d                 2000 non-null   object \n",
      " 46  last_pymnt_amnt              2000 non-null   float64\n",
      " 47  next_pymnt_d                 2000 non-null   object \n",
      " 48  last_credit_pull_d           2000 non-null   object \n",
      " 49  collections_12_mths_ex_med   2000 non-null   int64  \n",
      " 50  mths_since_last_major_derog  2000 non-null   int64  \n",
      " 51  policy_code                  2000 non-null   int64  \n",
      " 52  application_type             2000 non-null   object \n",
      " 53  annual_inc_joint             0 non-null      float64\n",
      " 54  dti_joint                    0 non-null      float64\n",
      " 55  verification_status_joint    0 non-null      float64\n",
      " 56  acc_now_delinq               2000 non-null   int64  \n",
      " 57  tot_coll_amt                 2000 non-null   int64  \n",
      " 58  tot_cur_bal                  2000 non-null   int64  \n",
      " 59  open_acc_6m                  2000 non-null   int64  \n",
      " 60  open_il_6m                   2000 non-null   int64  \n",
      " 61  open_il_12m                  2000 non-null   int64  \n",
      " 62  open_il_24m                  2000 non-null   int64  \n",
      " 63  mths_since_rcnt_il           2000 non-null   int64  \n",
      " 64  total_bal_il                 2000 non-null   int64  \n",
      " 65  il_util                      2000 non-null   float64\n",
      " 66  open_rv_12m                  2000 non-null   int64  \n",
      " 67  open_rv_24m                  2000 non-null   int64  \n",
      " 68  max_bal_bc                   2000 non-null   int64  \n",
      " 69  all_util                     2000 non-null   float64\n",
      " 70  total_rev_hi_lim             2000 non-null   int64  \n",
      " 71  inq_fi                       2000 non-null   int64  \n",
      " 72  total_cu_tl                  2000 non-null   int64  \n",
      " 73  inq_last_12m                 2000 non-null   int64  \n",
      "dtypes: float64(17), int64(35), object(22)\n",
      "memory usage: 1.1+ MB\n"
     ]
    }
   ],
   "source": [
    "df.info()"
   ]
  },
  {
   "cell_type": "markdown",
   "id": "084e7a4d",
   "metadata": {},
   "source": [
    "All Continuos Variable Must be Numeric"
   ]
  },
  {
   "cell_type": "code",
   "execution_count": 6,
   "id": "48fcd94c",
   "metadata": {},
   "outputs": [
    {
     "data": {
      "text/plain": [
       "array(['7 years', '10+ years', '2 years', '6 years', '1 year', '8 years',\n",
       "       '4 years', '5 years', '< 1 year', '9 years', '3 years'],\n",
       "      dtype=object)"
      ]
     },
     "execution_count": 6,
     "metadata": {},
     "output_type": "execute_result"
    }
   ],
   "source": [
    "df['emp_length'].unique()"
   ]
  },
  {
   "cell_type": "code",
   "execution_count": 7,
   "id": "fb5d7053",
   "metadata": {},
   "outputs": [],
   "source": [
    "# Cleaning the emp_length column\n",
    "df['emp_length'] = df['emp_length'].str.replace(' years', '')\n",
    "df['emp_length'] = df['emp_length'].str.replace(' year', '')\n",
    "df['emp_length'] = df['emp_length'].str.replace('< 1', '0')\n",
    "df['emp_length'] = df['emp_length'].str.replace('10+', '10')\n",
    "df['emp_length'] = df['emp_length'].str.replace('n/a', '0')\n",
    "df['emp_length'] = df['emp_length'].astype(int)"
   ]
  },
  {
   "cell_type": "markdown",
   "id": "ef9dc93f",
   "metadata": {},
   "source": [
    "Checking the conversion"
   ]
  },
  {
   "cell_type": "code",
   "execution_count": 8,
   "id": "3c15ee79",
   "metadata": {},
   "outputs": [
    {
     "data": {
      "text/plain": [
       "array([ 7, 10,  2,  6,  1,  8,  4,  5,  0,  9,  3])"
      ]
     },
     "execution_count": 8,
     "metadata": {},
     "output_type": "execute_result"
    }
   ],
   "source": [
    "df['emp_length'].unique()"
   ]
  },
  {
   "cell_type": "code",
   "execution_count": 9,
   "id": "2b8fa781",
   "metadata": {},
   "outputs": [
    {
     "data": {
      "text/plain": [
       "numpy.int64"
      ]
     },
     "execution_count": 9,
     "metadata": {},
     "output_type": "execute_result"
    }
   ],
   "source": [
    "type(df['emp_length'][0])"
   ]
  },
  {
   "cell_type": "code",
   "execution_count": 10,
   "id": "c6617dfa",
   "metadata": {},
   "outputs": [
    {
     "data": {
      "text/plain": [
       "numpy.int64"
      ]
     },
     "execution_count": 10,
     "metadata": {},
     "output_type": "execute_result"
    }
   ],
   "source": [
    "df['emp_length'] = pd.to_numeric(df['emp_length'])\n",
    "# All Continuos Variable Must be Numeric\n",
    "type(df['emp_length'][0])"
   ]
  },
  {
   "cell_type": "markdown",
   "id": "1e5f7f7d",
   "metadata": {},
   "source": [
    "## Credit Line Column Handling\n",
    "Like when the loan was dispersed"
   ]
  },
  {
   "cell_type": "code",
   "execution_count": 11,
   "id": "dbc76f3a",
   "metadata": {},
   "outputs": [],
   "source": [
    "df['earliest_cr_line_date'] = df['earliest_cr_line'] = pd.to_datetime(df['earliest_cr_line'], format='%b-%y', errors='coerce')"
   ]
  },
  {
   "cell_type": "code",
   "execution_count": 12,
   "id": "f96f3581",
   "metadata": {},
   "outputs": [
    {
     "data": {
      "text/plain": [
       "Timestamp('1980-01-01 00:00:00')"
      ]
     },
     "execution_count": 12,
     "metadata": {},
     "output_type": "execute_result"
    }
   ],
   "source": [
    "mask = df['earliest_cr_line_date'].dt.year > 2025\n",
    "df.loc[mask, 'earliest_cr_line_date'] = df.loc[mask, 'earliest_cr_line_date'] + pd.DateOffset(years=100)\n",
    "df['earliest_cr_line_date'].head()\n",
    "\n",
    "# Assuming the date before 2025 should be 1900s\n",
    "df['earliest_cr_line_date'].min()"
   ]
  },
  {
   "cell_type": "code",
   "execution_count": 13,
   "id": "424934f9",
   "metadata": {},
   "outputs": [
    {
     "data": {
      "text/plain": [
       "pandas._libs.tslibs.timestamps.Timestamp"
      ]
     },
     "execution_count": 13,
     "metadata": {},
     "output_type": "execute_result"
    }
   ],
   "source": [
    "type(df['earliest_cr_line_date'][0])"
   ]
  },
  {
   "cell_type": "markdown",
   "id": "8d4da671",
   "metadata": {},
   "source": [
    "Finding overall time passed after the earliest_Credit_Line"
   ]
  },
  {
   "cell_type": "code",
   "execution_count": 14,
   "id": "e32b56e9",
   "metadata": {},
   "outputs": [
    {
     "data": {
      "text/plain": [
       "0   9234 days\n",
       "1   7469 days\n",
       "2   8626 days\n",
       "3   7742 days\n",
       "4   8381 days\n",
       "Name: earliest_cr_line_date, dtype: timedelta64[ns]"
      ]
     },
     "execution_count": 14,
     "metadata": {},
     "output_type": "execute_result"
    }
   ],
   "source": [
    "pd.to_datetime(\"2025-10-12\") - df['earliest_cr_line_date'].head()"
   ]
  },
  {
   "cell_type": "markdown",
   "id": "6e3db2fe",
   "metadata": {},
   "source": [
    "Converting this in \"Month\" Format"
   ]
  },
  {
   "cell_type": "code",
   "execution_count": 15,
   "id": "74ec9843",
   "metadata": {},
   "outputs": [],
   "source": [
    "## In months\n",
    "df['earliest_cr_line_months'] = (pd.to_datetime(\"2025-10-12\") - df['earliest_cr_line_date']) / pd.Timedelta(days=30.44)"
   ]
  },
  {
   "cell_type": "code",
   "execution_count": 16,
   "id": "838361d0",
   "metadata": {},
   "outputs": [
    {
     "data": {
      "text/plain": [
       "0    303.350854\n",
       "1    245.367937\n",
       "2    283.377135\n",
       "3    254.336399\n",
       "4    275.328515\n",
       "Name: earliest_cr_line_months, dtype: float64"
      ]
     },
     "execution_count": 16,
     "metadata": {},
     "output_type": "execute_result"
    }
   ],
   "source": [
    "df['earliest_cr_line_months'] = (pd.to_datetime(\"2025-10-12\") - df['earliest_cr_line_date']).dt.days / 30.44\n",
    "df['earliest_cr_line_months'].head()"
   ]
  },
  {
   "cell_type": "code",
   "execution_count": 17,
   "id": "33e38dfd",
   "metadata": {},
   "outputs": [
    {
     "data": {
      "text/plain": [
       "count    2000.000000\n",
       "mean      370.071797\n",
       "std       105.306377\n",
       "min       190.341656\n",
       "25%       277.332457\n",
       "50%       371.320631\n",
       "75%       463.370565\n",
       "max       549.310118\n",
       "Name: earliest_cr_line_months, dtype: float64"
      ]
     },
     "execution_count": 17,
     "metadata": {},
     "output_type": "execute_result"
    }
   ],
   "source": [
    "\n",
    "df['earliest_cr_line_months'].describe()"
   ]
  },
  {
   "cell_type": "markdown",
   "id": "f741a1af",
   "metadata": {},
   "source": [
    "## Default Flag (Dependent Variable)"
   ]
  },
  {
   "cell_type": "markdown",
   "id": "1e145b56",
   "metadata": {},
   "source": [
    " Charged Off - > Bank loses hope of getting money and marks Loss in their books. \n",
    "\n",
    "### Note: I have taken these Conditions as Default , The terms can change according to the Company or firms"
   ]
  },
  {
   "cell_type": "code",
   "execution_count": 28,
   "id": "2cfb03e9",
   "metadata": {},
   "outputs": [
    {
     "name": "stdout",
     "output_type": "stream",
     "text": [
      "Default Counts Distribution:\n",
      "default\n",
      "0    1190\n",
      "1     810\n",
      "Name: count, dtype: int64\n",
      "\n",
      "Loan status distribution:\n",
      "loan_status\n",
      "Current               418\n",
      "In Grace Period       415\n",
      "Late (31-120 days)    415\n",
      "Charged Off           395\n",
      "Fully Paid            357\n",
      "Name: count, dtype: int64\n"
     ]
    }
   ],
   "source": [
    "file_path = \"data/Loan_Data_New.csv\"\n",
    "\n",
    "try:\n",
    "    df = pd.read_csv(file_path)\n",
    "\n",
    "    # 'default' if 1, else 0\n",
    "    df['default'] = df['loan_status'].apply(lambda x: 1 if x in ['Charged Off', 'Default', 'Late (31-120 days)', 'Late (16-30 days)'] else 0)\n",
    "\n",
    "    # Count of default and non-default\n",
    "    default_counts = df['default'].value_counts()\n",
    "    print(\"Default Counts Distribution:\")\n",
    "    print(default_counts)\n",
    "    # 1 shows defaullted Loans\n",
    "\n",
    "    # Print how many loans fall into each original loan_status category\n",
    "    print(\"\\nLoan status distribution:\")\n",
    "    print(df['loan_status'].value_counts())\n",
    "\n",
    "except FileNotFoundError:\n",
    "    print(f\"File not found: {file_path}\")\n",
    "    \n"
   ]
  },
  {
   "cell_type": "markdown",
   "id": "e0bc34fc",
   "metadata": {},
   "source": [
    "## Train-Test Split "
   ]
  },
  {
   "cell_type": "code",
   "execution_count": 29,
   "id": "6fa9892c",
   "metadata": {},
   "outputs": [],
   "source": [
    "from sklearn.model_selection import train_test_split"
   ]
  },
  {
   "cell_type": "code",
   "execution_count": 34,
   "id": "b729ba5e",
   "metadata": {},
   "outputs": [],
   "source": [
    "def drop_rows_with_missing_loan_status(df):\n",
    "    initial_shape = df.shape\n",
    "    df = df.dropna(subset=['loan_status'])\n",
    "    final_shape = df.shape\n",
    "    print(f\"Dropped {initial_shape[0] - final_shape[0]} rows with missing loan_status\")\n",
    "    return df"
   ]
  },
  {
   "cell_type": "code",
   "execution_count": 38,
   "id": "aaeb3d6f",
   "metadata": {},
   "outputs": [
    {
     "name": "stdout",
     "output_type": "stream",
     "text": [
      "Dropped 0 rows with missing loan_status\n"
     ]
    }
   ],
   "source": [
    "df = drop_rows_with_missing_loan_status(df)"
   ]
  },
  {
   "cell_type": "markdown",
   "id": "3df1fcb3",
   "metadata": {},
   "source": [
    "Feature Selection (Input Variables)"
   ]
  },
  {
   "cell_type": "code",
   "execution_count": 41,
   "id": "84a354e2",
   "metadata": {},
   "outputs": [],
   "source": [
    "x = df.drop(columns='loan_status')\n",
    "y = df['loan_status']"
   ]
  },
  {
   "cell_type": "markdown",
   "id": "4eeb937c",
   "metadata": {},
   "source": [
    "train and test data splitting\n",
    "- test size = 20% \n",
    "- training size = 80%"
   ]
  },
  {
   "cell_type": "code",
   "execution_count": 42,
   "id": "4c0769a1",
   "metadata": {},
   "outputs": [],
   "source": [
    "x_train, x_test, y_train, y_test = train_test_split(x, y, test_size=0.2, random_state=42)"
   ]
  },
  {
   "cell_type": "code",
   "execution_count": null,
   "id": "5f8a9ac9",
   "metadata": {},
   "outputs": [
    {
     "name": "stdout",
     "output_type": "stream",
     "text": [
      "Training features set size: (1600, 74)\n",
      "Testing features set size: (400, 74)\n",
      "Training labels size: (1600,)\n",
      "Testing labels size: (400,)\n"
     ]
    }
   ],
   "source": [
    "print(\"Training features set size:\", x_train.shape) # Number of rows and columns in x_train\n",
    "print(\"Testing features set size:\", x_test.shape) # Number of rows and columns in x_test\n",
    "print(\"Training labels size:\", y_train.shape) # Number of labels in y_train\n",
    "print(\"Testing labels size:\", y_test.shape) # Number of labels in y_test\n",
    "\n"
   ]
  },
  {
   "cell_type": "code",
   "execution_count": null,
   "id": "b9a924e5",
   "metadata": {},
   "outputs": [],
   "source": []
  }
 ],
 "metadata": {
  "kernelspec": {
   "display_name": "venv",
   "language": "python",
   "name": "python3"
  },
  "language_info": {
   "codemirror_mode": {
    "name": "ipython",
    "version": 3
   },
   "file_extension": ".py",
   "mimetype": "text/x-python",
   "name": "python",
   "nbconvert_exporter": "python",
   "pygments_lexer": "ipython3",
   "version": "3.13.0"
  }
 },
 "nbformat": 4,
 "nbformat_minor": 5
}
