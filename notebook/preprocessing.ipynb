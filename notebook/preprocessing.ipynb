{
 "cells": [
  {
   "cell_type": "markdown",
   "id": "87f299c0",
   "metadata": {},
   "source": [
    "# Preparing Data For the Modelling"
   ]
  },
  {
   "cell_type": "code",
   "execution_count": null,
   "id": "e122e4ec",
   "metadata": {},
   "outputs": [],
   "source": [
    "## Loading the dataset\n"
   ]
  }
 ],
 "metadata": {
  "kernelspec": {
   "display_name": "venv",
   "language": "python",
   "name": "python3"
  },
  "language_info": {
   "name": "python",
   "version": "3.13.0"
  }
 },
 "nbformat": 4,
 "nbformat_minor": 5
}
